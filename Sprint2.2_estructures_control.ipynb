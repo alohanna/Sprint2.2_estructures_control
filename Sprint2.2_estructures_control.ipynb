{
 "cells": [
  {
   "cell_type": "code",
   "execution_count": 65,
   "id": "2d2de74e",
   "metadata": {},
   "outputs": [
    {
     "name": "stdout",
     "output_type": "stream",
     "text": [
      "Error\n"
     ]
    }
   ],
   "source": [
    "#Exercici 1\n",
    "#L'exercici consisteix a crear una funció que et classifiqui una variable numèrica en \n",
    "#funció de l’escala Suspès/Aprovat/Notable/Excel·lent.\n",
    "#Recorda que Suspès < 5, Aprovat > 5 i < 7, Notable > 7 i < 9 i Excel·lent > 9.\n",
    "\n",
    "def evaluar (n):\n",
    "    if n < 5:\n",
    "        print (\"Suspès\")\n",
    "    elif n>=5 and n<7:\n",
    "        print (\"Aprovat\")\n",
    "    elif n >= 7 and n<9:\n",
    "        print (\"Notable\")\n",
    "    elif n<=10:\n",
    "        print (\"Excel·lent\")\n",
    "    else:\n",
    "        print (\"Error\")\n",
    "\n",
    "evaluar(12)"
   ]
  },
  {
   "cell_type": "code",
   "execution_count": 3,
   "id": "a43815d6",
   "metadata": {},
   "outputs": [
    {
     "name": "stdout",
     "output_type": "stream",
     "text": [
      "Escriu un número...6\n",
      "Escriu un número...4\n",
      "el primer número 6 és més gran que el segon número 4\n"
     ]
    }
   ],
   "source": [
    "#Exercici 2\n",
    "#Utilitzant el següent tutorial crea una funció que et pregunti dos números. \n",
    "#T’ha de mostrar un missatge dient si el primer és més gran, el segon és més gran o són iguals.\n",
    "\n",
    "def comparar ():\n",
    "    num1=int(input(\"Escriu un número...\"))\n",
    "    num2=int(input(\"Escriu un número...\"))\n",
    "    if num1>num2:\n",
    "        print(\"el primer número {} és més gran que el segon número {}\".format(num1,num2))\n",
    "    elif num2>num1:\n",
    "        print(\"el segon número {} és més gran que el primer número {}\".format(num2,num1))\n",
    "    else:\n",
    "        print(\"Són iguals\")\n",
    "    \n",
    "comparar()"
   ]
  },
  {
   "cell_type": "code",
   "execution_count": 71,
   "id": "c976da74",
   "metadata": {},
   "outputs": [
    {
     "name": "stdout",
     "output_type": "stream",
     "text": [
      "escriu el teu nomanna\n",
      "Escriu el teu número...7\n",
      "anna\n",
      "anna\n",
      "anna\n",
      "anna\n",
      "anna\n",
      "anna\n",
      "anna\n"
     ]
    }
   ],
   "source": [
    "#Exercici 3\n",
    "#Crea una funció que et pregunti el teu nom, i et demani un número. \n",
    "#Si el número és 0, hauria de mostrar un missatge d’error. \n",
    "#En cas contrari, hauria de mostrar el nom repetit tants cops com indiqui el número. Per exemple, “Joan Joan Joan”.\n",
    "\n",
    "\n",
    "nom= input(\"escriu el teu nom\")\n",
    "num= int(input(\"Escriu el teu número...\"))\n",
    "\n",
    "if int(num)==0:\n",
    "    print(\"Error\")\n",
    "else:\n",
    "    for i in range(num):\n",
    "        print (nom)\n"
   ]
  },
  {
   "cell_type": "code",
   "execution_count": 18,
   "id": "688541ef",
   "metadata": {},
   "outputs": [
    {
     "name": "stdout",
     "output_type": "stream",
     "text": [
      "Aquesta llista es simètrica i conté 5 elements\n",
      "Aquesta llista no es simètrica\n"
     ]
    }
   ],
   "source": [
    "#Exercici 4\n",
    "#Crea una funció que donada una llista qualsevol, et digui si és simètrica o no.\n",
    "#Si ho és, que et digui quants elements té.\n",
    "\n",
    "\n",
    "def simetria (lista):\n",
    "    lista_invertida = lista[::-1]\n",
    "    \n",
    "    if lista==lista_invertida:\n",
    "        print(\"Aquesta llista es simètrica i conté\",len(lista1), \"elements\")\n",
    "\n",
    "    else:\n",
    "        print(\"Aquesta llista no es simètrica\")\n",
    "\n",
    "lista1 = [1, 2, 3, 2, 1]\n",
    "lista2 = [1, 2, 3, 4, 5, 6]\n",
    "\n",
    "simetria(lista1)\n",
    "simetria(lista2)"
   ]
  },
  {
   "cell_type": "code",
   "execution_count": 193,
   "id": "4977e67c",
   "metadata": {},
   "outputs": [
    {
     "name": "stdout",
     "output_type": "stream",
     "text": [
      "Hay 2 coincidencias\n"
     ]
    }
   ],
   "source": [
    "#Exercici 5\n",
    "#Crea una funció que donada una llista, et digui quants números coincideixen amb la seva posició.\n",
    "#Per exemple [3,4,2,0,2,3,6] el 2 i el 6 coincideixen.\n",
    "\n",
    "\n",
    "lista4=[3,4,2,0,2,3,6]\n",
    "\n",
    "def coincidir(lista):\n",
    "    coincidencias=[]\n",
    "    for num in enumerate(lista4):\n",
    "        if num[0] == num[1]:\n",
    "            coincidencias.append(num)\n",
    "    return coincidencias\n",
    "    \n",
    "coincidir(lista4)\n",
    "print (f\"Hay {len(coincidencias)} coincidencias\")"
   ]
  },
  {
   "cell_type": "code",
   "execution_count": null,
   "id": "fbf74199",
   "metadata": {},
   "outputs": [],
   "source": []
  }
 ],
 "metadata": {
  "kernelspec": {
   "display_name": "Python 3 (ipykernel)",
   "language": "python",
   "name": "python3"
  },
  "language_info": {
   "codemirror_mode": {
    "name": "ipython",
    "version": 3
   },
   "file_extension": ".py",
   "mimetype": "text/x-python",
   "name": "python",
   "nbconvert_exporter": "python",
   "pygments_lexer": "ipython3",
   "version": "3.11.5"
  }
 },
 "nbformat": 4,
 "nbformat_minor": 5
}
